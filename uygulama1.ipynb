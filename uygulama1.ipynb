{
 "cells": [
  {
   "cell_type": "markdown",
   "metadata": {},
   "source": [
    "# Nümerik Analiz  - Uygulama 1\n",
    "* Hazırlayan: Oğuz KIRAT"
   ]
  },
  {
   "cell_type": "markdown",
   "metadata": {},
   "source": [
    "## Ekrandan alma ve yazdırma"
   ]
  },
  {
   "cell_type": "markdown",
   "metadata": {},
   "source": [
    "* Python'da ekrandan alma ve ekrana yazdırmayı hatırlayalım."
   ]
  },
  {
   "cell_type": "code",
   "execution_count": 1,
   "metadata": {},
   "outputs": [
    {
     "name": "stdout",
     "output_type": "stream",
     "text": [
      "Merhaba Ali . Yaşınız  20 ise doğum yılınız 2005 olmalıdır.\n"
     ]
    }
   ],
   "source": [
    "isim=input(\"İsminizi giriniz:\")\n",
    "yas=int(input(\"Yaşınızı giriniz:\"))\n",
    "dyili=2025-yas\n",
    "# print fonksiyonunda , ve + kullanımı\n",
    "print(\"Merhaba\",isim,\". Yaşınız \",yas,\"ise doğum yılınız \"+str(dyili)+\" olmalıdır.\")"
   ]
  },
  {
   "cell_type": "markdown",
   "metadata": {},
   "source": [
    "## Döngüler\n",
    "### for döngüsü"
   ]
  },
  {
   "cell_type": "code",
   "execution_count": 2,
   "metadata": {},
   "outputs": [
    {
     "name": "stdout",
     "output_type": "stream",
     "text": [
      "0 1 2 3 4 "
     ]
    }
   ],
   "source": [
    "for x in range(5):\n",
    "    print(x,end=\" \")"
   ]
  },
  {
   "cell_type": "code",
   "execution_count": 3,
   "metadata": {},
   "outputs": [
    {
     "name": "stdout",
     "output_type": "stream",
     "text": [
      "5 6 7 8 9 "
     ]
    }
   ],
   "source": [
    "for x in range (5,10):\n",
    "    print(x, end=\" \")"
   ]
  },
  {
   "cell_type": "code",
   "execution_count": 4,
   "metadata": {},
   "outputs": [
    {
     "name": "stdout",
     "output_type": "stream",
     "text": [
      "8 10 12 14 "
     ]
    }
   ],
   "source": [
    "for x in range (8,15,2):\n",
    "    print(x, end=\" \")"
   ]
  },
  {
   "cell_type": "markdown",
   "metadata": {},
   "source": [
    "### while döngüsü"
   ]
  },
  {
   "cell_type": "code",
   "execution_count": 5,
   "metadata": {},
   "outputs": [
    {
     "name": "stdout",
     "output_type": "stream",
     "text": [
      "0 1 2 3 "
     ]
    }
   ],
   "source": [
    "x=0\n",
    "while x < 4:\n",
    "    print(x, end=\" \")\n",
    "    x += 1"
   ]
  },
  {
   "cell_type": "markdown",
   "metadata": {},
   "source": [
    "### Döngüyü kırmak"
   ]
  },
  {
   "cell_type": "code",
   "execution_count": 6,
   "metadata": {},
   "outputs": [
    {
     "name": "stdout",
     "output_type": "stream",
     "text": [
      "Girilen sayının iki katını bulma programı\n",
      "Girilen sayının iki katı: 4\n",
      "Girilen sayının iki katı: 10\n",
      "Girilen sayının iki katı: 10\n",
      "Geçersiz giriş yaptınız.\n"
     ]
    }
   ],
   "source": [
    "print(\"Girilen sayının iki katını bulma programı\")\n",
    "while True:\n",
    "    girdi=input(\"Bir sayı giriniz ya da çıkmak için q giriniz:\")\n",
    "    if girdi==\"q\":\n",
    "        break\n",
    "    elif girdi.isdigit():\n",
    "        sayi=int(girdi)\n",
    "        print(\"Girilen sayının iki katı:\",sayi*2)\n",
    "    else:\n",
    "        print(\"Geçersiz giriş yaptınız.\")\n",
    "        #opsiyonel olarak continue kullanılabilir\n",
    "        continue"
   ]
  },
  {
   "cell_type": "markdown",
   "metadata": {},
   "source": [
    "## Listeler"
   ]
  },
  {
   "cell_type": "code",
   "execution_count": 7,
   "metadata": {},
   "outputs": [
    {
     "name": "stdout",
     "output_type": "stream",
     "text": [
      "['e', 3, 'b', 1, 'd']\n",
      "2\n",
      "1\n",
      "['d', 1, 'b', 3, 'e']\n"
     ]
    }
   ],
   "source": [
    "listem = [3, \"a\"]\n",
    "# Listeye yeni bir eleman ekle\n",
    "listem.append(\"b\")\n",
    "listem.append(\"c\")\n",
    "listem.append(1)\n",
    "# Listenin sondan ikinci elemanı (eleman \"c\") çıkarılıyor\n",
    "listem.pop(-2)\n",
    "# Listeye yeni bir eleman (string \"d\") ekleniyor\n",
    "listem.append(\"d\")\n",
    "# Listenin başına (0. indekse) yeni bir eleman (string \"e\") ekleniyor\n",
    "listem.insert(0, \"e\")\n",
    "# Listeden \"a\" karakteri kaldırılıyor\n",
    "listem.remove(\"a\")\n",
    "# Listenin içinde \"b\" elemanının bulunduğu indeks alınıyor\n",
    "b_indisi = listem.index(\"b\")\n",
    "print(listem)\n",
    "print(b_indisi)\n",
    "# Listede kaç tane \"b\" olduğu ekrana yazdırılıyor\n",
    "print(listem.count(\"b\"))\n",
    "# Listeyi ters çevir\n",
    "listem.reverse()\n",
    "# Ters çevrilmiş listeyi ekrana yazdır\n",
    "print(listem)\n"
   ]
  },
  {
   "cell_type": "markdown",
   "metadata": {},
   "source": [
    "## Touple (Demet)"
   ]
  },
  {
   "cell_type": "code",
   "execution_count": 8,
   "metadata": {},
   "outputs": [
    {
     "name": "stdout",
     "output_type": "stream",
     "text": [
      "Orijinal tuple: (10, 20, 30, 'a', 'b', 'c')\n",
      "b'nin indeksi: 4\n",
      "10'un tuple içindeki sayısı: 1\n",
      "3. indeksteki eleman: a\n",
      "Dilimlenmiş tuple: (20, 30, 'a')\n",
      "Yeni birleştirilmiş tuple: (10, 20, 30, 'a', 'b', 'c', 40, 50, 60)\n"
     ]
    }
   ],
   "source": [
    "# Bir tuple (demet) oluşturuluyor. Tuple'lar değiştirilemez (immutable) veri yapılarıdır.\n",
    "demet = (10, 20, 30, \"a\", \"b\", \"c\")\n",
    "# Tuple içindeki bir elemanın indeksini bulma (örneğin \"b\" elemanının indeksini alıyoruz)\n",
    "b_indeksi = demet.index(\"b\")\n",
    "# Tuple içindeki belirli bir elemanın kaç kez geçtiğini bulma (örneğin 10'un kaç kez geçtiğini buluyoruz)\n",
    "on_sayisi = demet.count(10)\n",
    "# Tuple içindeki belirli bir elemana erişme (örneğin 3. indeksteki elemanı alıyoruz)\n",
    "eleman = demet[3]\n",
    "# Tuple dilimleme (örneğin 1. indeksten 4. indekse kadar olan elemanları alıyoruz)\n",
    "parca = demet[1:4]\n",
    "# Tuple'ları birleştirme (yeni bir tuple ile mevcut tuple'ı birleştiriyoruz)\n",
    "yeni_demet = demet + (40, 50, 60)\n",
    "\n",
    "print(\"Orijinal tuple:\", demet)\n",
    "print(\"b'nin indeksi:\", b_indeksi)\n",
    "print(\"10'un tuple içindeki sayısı:\", on_sayisi)\n",
    "print(\"3. indeksteki eleman:\", eleman)\n",
    "print(\"Dilimlenmiş tuple:\", parca)\n",
    "print(\"Yeni birleştirilmiş tuple:\", yeni_demet)"
   ]
  },
  {
   "cell_type": "markdown",
   "metadata": {},
   "source": [
    "## Set (Küme)"
   ]
  },
  {
   "cell_type": "code",
   "execution_count": 9,
   "metadata": {},
   "outputs": [
    {
     "name": "stdout",
     "output_type": "stream",
     "text": [
      "Set içeriği: {2, 3, 4, 5, 'c', 6, 7, 8, 'd', 'a'}\n",
      "Set uzunluğu: 10\n",
      "Rastgele çıkarılan eleman: 1\n",
      "A ve B kümelerinin birleşimi: {1, 2, 3, 4, 5, 6, 7, 8}\n",
      "A ve B kümelerinin kesişimi: {4, 5}\n",
      "A kümesinin B kümesinden farkı: {1, 2, 3}\n",
      "A ve B kümelerinin simetrik farkı: {1, 2, 3, 6, 7, 8}\n"
     ]
    }
   ],
   "source": [
    "## Set (Küme)\n",
    "# Bir set (küme) oluşturuluyor. Set'ler benzersiz elemanlar içerir ve sırasızdır.\n",
    "kume = {1, 2, 3, 4, 5, \"a\", \"b\", \"c\"}\n",
    "\n",
    "# Set'e yeni bir eleman ekleme (örneğin \"d\" elemanı ekleniyor)\n",
    "kume.add(\"d\")\n",
    "\n",
    "# Set'e birden fazla eleman ekleme (update metodu ile birden fazla eleman ekleyebiliriz)\n",
    "kume.update([6, 7, 8])\n",
    "\n",
    "# Set'ten bir eleman kaldırma (örneğin \"b\" elemanı kaldırılıyor)\n",
    "kume.remove(\"b\")  # Eğer eleman yoksa hata verir\n",
    "\n",
    "# Set'ten bir eleman kaldırma (discard metodu kullanılarak, eğer eleman yoksa hata vermez)\n",
    "kume.discard(\"z\")  # \"z\" elemanı yok, ancak discard kullanıldığı için hata vermez\n",
    "\n",
    "# Set'ten rastgele bir eleman çıkarma (pop metodu set'in sırasız olması nedeniyle rastgele bir eleman çıkarır)\n",
    "rastgele_cikarilan = kume.pop()\n",
    "\n",
    "# Set'in uzunluğunu (eleman sayısını) bulma\n",
    "uzunluk = len(kume)\n",
    "\n",
    "# Set'in elemanlarını ekrana yazdırma\n",
    "print(\"Set içeriği:\", kume)\n",
    "print(\"Set uzunluğu:\", uzunluk)\n",
    "print(\"Rastgele çıkarılan eleman:\", rastgele_cikarilan)\n",
    "\n",
    "# Set işlemleri (matematiksel küme işlemleri)\n",
    "A = {1, 2, 3, 4, 5}\n",
    "B = {4, 5, 6, 7, 8}\n",
    "\n",
    "# Birleşim işlemi (A ve B kümelerinin birleşimi)\n",
    "birlesim = A.union(B)\n",
    "\n",
    "# Kesişim işlemi (A ve B kümelerinin ortak elemanları)\n",
    "kesisim = A.intersection(B)\n",
    "\n",
    "# Fark işlemi (A kümesinde olup B kümesinde olmayan elemanlar)\n",
    "fark = A.difference(B)\n",
    "\n",
    "# Simetrik fark işlemi (iki kümede ortak olmayan elemanlar)\n",
    "simetrik_fark = A.symmetric_difference(B)\n",
    "\n",
    "# Küme işlemlerinin sonuçlarını ekrana yazdırma\n",
    "print(\"A ve B kümelerinin birleşimi:\", birlesim)\n",
    "print(\"A ve B kümelerinin kesişimi:\", kesisim)\n",
    "print(\"A kümesinin B kümesinden farkı:\", fark)\n",
    "print(\"A ve B kümelerinin simetrik farkı:\", simetrik_fark)"
   ]
  },
  {
   "cell_type": "code",
   "execution_count": null,
   "metadata": {},
   "outputs": [],
   "source": [
    "## Dictionary (Sözlük)"
   ]
  },
  {
   "cell_type": "code",
   "execution_count": 10,
   "metadata": {},
   "outputs": [
    {
     "name": "stdout",
     "output_type": "stream",
     "text": [
      "Sözlük içeriği: {'ad': 'Ali', 'soyad': 'Yılmaz', 'yas': 26}\n",
      "İsim: Ali\n",
      "Yaş: 25\n",
      "Silinen şehir: İstanbul\n",
      "Anahtarlar: ['ad', 'soyad', 'yas']\n",
      "Değerler: ['Ali', 'Yılmaz', 26]\n",
      "Anahtar-değer çiftleri: [('ad', 'Ali'), ('soyad', 'Yılmaz'), ('yas', 26)]\n",
      "Sözlükte 'soyad' anahtarı var mı?: True\n",
      "Boşaltılmış sözlük: {}\n"
     ]
    }
   ],
   "source": [
    "# Bir sözlük (dictionary) oluşturuluyor. Sözlükler anahtar-değer (key-value) çiftlerinden oluşur.\n",
    "sozluk = {\n",
    "    \"ad\": \"Ali\",\n",
    "    \"soyad\": \"Yılmaz\",\n",
    "    \"yas\": 25,\n",
    "    \"meslek\": \"Mühendis\"\n",
    "}\n",
    "\n",
    "# Sözlükteki bir değere anahtar ile erişme (örneğin \"ad\" anahtarına karşılık gelen değeri alıyoruz)\n",
    "isim = sozluk[\"ad\"]\n",
    "\n",
    "# get() metodu ile değeri alma (eğer anahtar yoksa varsayılan bir değer döndürebilir)\n",
    "yas = sozluk.get(\"yas\", \"Bilinmiyor\")\n",
    "\n",
    "# Sözlüğe yeni bir anahtar-değer çifti ekleme (örneğin \"şehir\" anahtarı ekleniyor)\n",
    "sozluk[\"şehir\"] = \"İstanbul\"\n",
    "\n",
    "# Bir anahtarın değerini güncelleme (örneğin \"yas\" değerini 26 olarak değiştiriyoruz)\n",
    "sozluk[\"yas\"] = 26\n",
    "\n",
    "# Bir anahtar-değer çiftini silme (örneğin \"meslek\" anahtarı siliniyor)\n",
    "del sozluk[\"meslek\"]\n",
    "\n",
    "# pop() metodu ile bir anahtar-değer çiftini kaldırma ve silinen değeri alma (örneğin \"şehir\" anahtarını kaldırıyoruz)\n",
    "sehir = sozluk.pop(\"şehir\")\n",
    "\n",
    "# Sözlükteki tüm anahtarları liste olarak alma\n",
    "anahtarlar = sozluk.keys()\n",
    "\n",
    "# Sözlükteki tüm değerleri liste olarak alma\n",
    "degerler = sozluk.values()\n",
    "\n",
    "# Sözlükteki tüm anahtar-değer çiftlerini liste olarak alma\n",
    "ogeler = sozluk.items()\n",
    "\n",
    "# Sözlükte belirli bir anahtarın olup olmadığını kontrol etme\n",
    "var_mi = \"soyad\" in sozluk  # True dönecektir çünkü \"soyad\" anahtarı mevcut\n",
    "\n",
    "# Sözlüğün içeriğini ekrana yazdırma\n",
    "print(\"Sözlük içeriği:\", sozluk)\n",
    "print(\"İsim:\", isim)\n",
    "print(\"Yaş:\", yas)\n",
    "print(\"Silinen şehir:\", sehir)\n",
    "print(\"Anahtarlar:\", list(anahtarlar))\n",
    "print(\"Değerler:\", list(degerler))\n",
    "print(\"Anahtar-değer çiftleri:\", list(ogeler))\n",
    "print(\"Sözlükte 'soyad' anahtarı var mı?:\", var_mi)\n",
    "\n",
    "# Dictionary'nin tüm içeriğini temizleme (boş bir sözlük haline getirir)\n",
    "sozluk.clear()\n",
    "\n",
    "# Boş sözlüğü ekrana yazdırma\n",
    "print(\"Boşaltılmış sözlük:\", sozluk)"
   ]
  },
  {
   "cell_type": "markdown",
   "metadata": {},
   "source": [
    "## Hata/İstisna Denetimi"
   ]
  },
  {
   "cell_type": "code",
   "execution_count": null,
   "metadata": {},
   "outputs": [
    {
     "ename": "ValueError",
     "evalue": "invalid literal for int() with base 10: 'b'",
     "output_type": "error",
     "traceback": [
      "\u001b[0;31m---------------------------------------------------------------------------\u001b[0m",
      "\u001b[0;31mValueError\u001b[0m                                Traceback (most recent call last)",
      "Cell \u001b[0;32mIn[11], line 2\u001b[0m\n\u001b[1;32m      1\u001b[0m l\u001b[38;5;241m=\u001b[39m[\u001b[38;5;124m\"\u001b[39m\u001b[38;5;124ma\u001b[39m\u001b[38;5;124m\"\u001b[39m,\u001b[38;5;124m\"\u001b[39m\u001b[38;5;124mb\u001b[39m\u001b[38;5;124m\"\u001b[39m,\u001b[38;5;124m\"\u001b[39m\u001b[38;5;124mc\u001b[39m\u001b[38;5;124m\"\u001b[39m]\n\u001b[0;32m----> 2\u001b[0m \u001b[38;5;28mprint\u001b[39m(\u001b[38;5;28;43mint\u001b[39;49m\u001b[43m(\u001b[49m\u001b[43ml\u001b[49m\u001b[43m[\u001b[49m\u001b[38;5;241;43m1\u001b[39;49m\u001b[43m]\u001b[49m\u001b[43m)\u001b[49m)\n\u001b[1;32m      3\u001b[0m \u001b[38;5;28;01mtry\u001b[39;00m:\n\u001b[1;32m      4\u001b[0m     \u001b[38;5;28mprint\u001b[39m(\u001b[38;5;28mint\u001b[39m(l[\u001b[38;5;241m1\u001b[39m]))\n",
      "\u001b[0;31mValueError\u001b[0m: invalid literal for int() with base 10: 'b'"
     ]
    }
   ],
   "source": [
    "l=[\"a\",\"b\",\"c\"]\n",
    "print(int(l[8]))\n",
    "try:\n",
    "    print(int(l[1]))\n",
    "except IndexError:\n",
    "    print(\"Bu indiste eleman bulunmamaktadır.\")\n",
    "except ValueError:\n",
    "    print(\"Değer tipi uygun değil.\")\n",
    "except:\n",
    "    print(\"Başka bir hata var.\")\n",
    "    #pass\n",
    "else:\n",
    "    #isteğe bağlı\n",
    "    print(\"bir hata yok\")"
   ]
  },
  {
   "cell_type": "markdown",
   "metadata": {},
   "source": [
    "## Hazır fonksiyonlar ve matematik"
   ]
  },
  {
   "cell_type": "code",
   "execution_count": null,
   "metadata": {},
   "outputs": [],
   "source": [
    "import math as m\n",
    "print(m.sqrt(16))\n",
    "print(m.factorial(5))\n",
    "print(m.pi)\n",
    "print(m.e)\n",
    "print(m.cos(m.radians(180)))\n",
    "print(m.fabs(-5))\n",
    "print(m.ceil(3.4))\n",
    "print(m.floor(3.4))\n",
    "print(round(m.pi,2))\n"
   ]
  },
  {
   "cell_type": "markdown",
   "metadata": {},
   "source": [
    "- Sıklıklıkla kullanılan dahili modüller:\n",
    "os, datetime, time, random, math, re, json, csv, shutil, sys, re"
   ]
  },
  {
   "cell_type": "markdown",
   "metadata": {},
   "source": [
    "- Sıklıkla kullanılan 3.parti modüller:\n",
    "numpy, pandas, scipy, matplotlib, seaborn, scikit-learn, pytorch, tensorflow, pillow, opencv-python, scikit-image, tqdm, requests\n"
   ]
  },
  {
   "cell_type": "markdown",
   "metadata": {},
   "source": [
    "## Fonksiyonlar"
   ]
  },
  {
   "cell_type": "code",
   "execution_count": null,
   "metadata": {},
   "outputs": [],
   "source": [
    "def dogum_yili_hesapla(isim, yas, mevcut_yil=2025):\n",
    "    \"\"\"Bu fonksiyon kişinin yaşına göre tahmini doğum yılını hesaplar.\"\"\"\n",
    "    dogum_yili = mevcut_yil - yas\n",
    "    return f\"{isim}, tahmini doğum yılın: {dogum_yili}\"\n",
    "\n",
    "# Esnek sayıda argüman alan bir fonksiyon (*args)\n",
    "def sinirsiz_toplama(*sayilar):\n",
    "    \"\"\"Bu fonksiyon birden fazla sayı alarak toplar ve sonucu döndürür.\"\"\"\n",
    "    return sum(sayilar)\n",
    "\n",
    "# Esnek sayıda anahtar-değer çifti alan bir fonksiyon (**kwargs)\n",
    "def kisi_bilgileri(**bilgiler):\n",
    "    \"\"\"Bu fonksiyon, kişi hakkında değişken sayıda bilgi alabilir ve ekrana yazdırır.\"\"\"\n",
    "    print(\"Kişi bilgileri:\")\n",
    "    for anahtar, deger in bilgiler.items():\n",
    "        print(f\"{anahtar}: {deger}\")\n",
    "\n",
    "dyili=dogum_yili_hesapla(\"Ahmet\",20)  # Anahtar kelimeli argümanlar kullanılır\n",
    "print(dyili)\n",
    "toplam_sinirsiz = sinirsiz_toplama(1, 2, 3, 4, 5)  # İstenilen sayıda argüman gönderilebilir\n",
    "print(\"Sınırsız toplama sonucu:\", toplam_sinirsiz)\n",
    "print(\"\")\n",
    "kisi_bilgileri(ad=\"Mehmet\", soyad=\"Yılmaz\", meslek=\"Doktor\", sehir=\"Ankara\")  "
   ]
  },
  {
   "cell_type": "markdown",
   "metadata": {},
   "source": [
    "## Python'da sınıflar ve yapıcı metod kullanımı"
   ]
  },
  {
   "cell_type": "code",
   "execution_count": null,
   "metadata": {},
   "outputs": [],
   "source": [
    "# Bir sınıf tanımlama\n",
    "class Araba:\n",
    "    \"\"\"Bu sınıf araba nesnelerini temsil eder.\"\"\"\n",
    "\n",
    "    # Yapıcı (constructor) metod: Nesne oluşturulduğunda otomatik olarak çağrılır.\n",
    "    def __init__(self, marka, model, yil, renk):\n",
    "        \"\"\"Araba nesnesinin başlangıç özelliklerini tanımlar.\"\"\"\n",
    "        self.marka = marka  # Arabanın markası\n",
    "        self.model = model  # Arabanın modeli\n",
    "        self.yil = yil  # Üretim yılı\n",
    "        self.renk = renk  # Arabanın rengi\n",
    "        self.hiz = 0  # Başlangıçta hız sıfır olarak tanımlanır\n",
    "\n",
    "    # Nesneye ait bir metot tanımlama\n",
    "    def hizlan(self, miktar):\n",
    "        \"\"\"Arabayı belirli bir miktar hızlandırır.\"\"\"\n",
    "        self.hiz += miktar\n",
    "        print(f\"{self.marka} {self.model} {miktar} km/h hızlandı. Şu anki hız: {self.hiz} km/h\")\n",
    "\n",
    "    def yavasla(self, miktar):\n",
    "        \"\"\"Arabayı belirli bir miktar yavaşlatır.\"\"\"\n",
    "        self.hiz -= miktar\n",
    "        if self.hiz < 0:\n",
    "            self.hiz = 0  # Hız negatif olamaz\n",
    "        print(f\"{self.marka} {self.model} {miktar} km/h yavaşladı. Şu anki hız: {self.hiz} km/h\")\n",
    "\n",
    "    def dur(self):\n",
    "        \"\"\"Arabayı tamamen durdurur.\"\"\"\n",
    "        self.hiz = 0\n",
    "        print(f\"{self.marka} {self.model} durdu.\")\n",
    "\n",
    "    def bilgi_goster(self):\n",
    "        \"\"\"Arabanın mevcut bilgilerini ekrana yazdırır.\"\"\"\n",
    "        print(f\"Araba Bilgileri: {self.marka} {self.model}, {self.yil}, Renk: {self.renk}, Mevcut Hız: {self.hiz} km/h\")\n",
    "\n",
    "# Sınıfı kullanarak nesneler oluşturma\n",
    "araba1 = Araba(\"Toyota\", \"Corolla\", 2020, \"Beyaz\")\n",
    "araba2 = Araba(\"BMW\", \"M3\", 2022, \"Mavi\")\n",
    "\n",
    "# Nesne metotlarını çağırma\n",
    "araba1.bilgi_goster()\n",
    "araba1.hizlan(30)\n",
    "araba1.yavasla(10)\n",
    "araba1.dur()\n",
    "araba1.bilgi_goster()\n",
    "\n",
    "print()  # Boşluk eklemek için\n",
    "\n",
    "araba2.bilgi_goster()\n",
    "araba2.hizlan(50)\n",
    "araba2.yavasla(20)\n",
    "araba2.dur()\n",
    "araba2.bilgi_goster()"
   ]
  },
  {
   "cell_type": "code",
   "execution_count": null,
   "metadata": {},
   "outputs": [],
   "source": []
  }
 ],
 "metadata": {
  "kernelspec": {
   "display_name": "oruntu",
   "language": "python",
   "name": "python3"
  },
  "language_info": {
   "codemirror_mode": {
    "name": "ipython",
    "version": 3
   },
   "file_extension": ".py",
   "mimetype": "text/x-python",
   "name": "python",
   "nbconvert_exporter": "python",
   "pygments_lexer": "ipython3",
   "version": "3.11.11"
  }
 },
 "nbformat": 4,
 "nbformat_minor": 2
}
